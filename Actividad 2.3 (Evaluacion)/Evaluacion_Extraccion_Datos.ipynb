{
 "cells": [
  {
   "cell_type": "code",
   "execution_count": 3,
   "metadata": {},
   "outputs": [],
   "source": [
    "import pandas as pd\n",
    "import numpy as np\n",
    "import matplotlib.pyplot as plt\n",
    "import seaborn as sns"
   ]
  },
  {
   "cell_type": "code",
   "execution_count": null,
   "metadata": {},
   "outputs": [],
   "source": [
    "df = pd.read_csv('listings.csv')\n",
    "df"
   ]
  },
  {
   "cell_type": "code",
   "execution_count": null,
   "metadata": {},
   "outputs": [],
   "source": [
    "df.info()\n",
    "df"
   ]
  },
  {
   "cell_type": "markdown",
   "metadata": {},
   "source": [
    "a. Variable usada \"host_name\""
   ]
  },
  {
   "cell_type": "code",
   "execution_count": null,
   "metadata": {},
   "outputs": [],
   "source": [
    "f1 = df[(df[\"host_name\"] == \"Joe\") | (df[\"host_name\"] == \"Jeff\") | (df[\"host_name\"] == \"Erika\") | (df[\"host_name\"] == \"Rebecca\") | (df[\"host_name\"] == \"Mark\")]\n",
    "f1"
   ]
  },
  {
   "cell_type": "markdown",
   "metadata": {},
   "source": [
    "b. Variable usada \"host_since\""
   ]
  },
  {
   "cell_type": "code",
   "execution_count": null,
   "metadata": {},
   "outputs": [],
   "source": [
    "df[\"host_since\"] = pd.to_datetime(df[\"host_since\"],errors='coerce')\n",
    "f2 = df[(df[\"host_since\"] < \"2019/01/01\")]\n",
    "f2"
   ]
  },
  {
   "cell_type": "markdown",
   "metadata": {},
   "source": [
    "c. Variable usada \"host_response_time\""
   ]
  },
  {
   "cell_type": "code",
   "execution_count": null,
   "metadata": {},
   "outputs": [],
   "source": [
    "f3 = df[(df[\"host_response_time\"] == \"within a day\")]\n",
    "f3"
   ]
  },
  {
   "cell_type": "markdown",
   "metadata": {},
   "source": [
    "d. Variable usada \"acommodates\""
   ]
  },
  {
   "cell_type": "code",
   "execution_count": null,
   "metadata": {},
   "outputs": [],
   "source": [
    "f4 = df[(df[\"accommodates\"] >= 5)]\n",
    "f4"
   ]
  },
  {
   "cell_type": "markdown",
   "metadata": {},
   "source": [
    "e. Variable usada \"room_type\""
   ]
  },
  {
   "cell_type": "code",
   "execution_count": null,
   "metadata": {},
   "outputs": [],
   "source": [
    "f5 = df[(df[\"room_type\"] == \"Private room\") | (df[\"room_type\"] == \"Entire home/apt\")]\n",
    "f5"
   ]
  },
  {
   "cell_type": "markdown",
   "metadata": {},
   "source": [
    "f. Variable usada \"beds\""
   ]
  },
  {
   "cell_type": "code",
   "execution_count": null,
   "metadata": {},
   "outputs": [],
   "source": [
    "f6 = df[(df[\"beds\"] <= 4)]\n",
    "f6"
   ]
  },
  {
   "cell_type": "markdown",
   "metadata": {},
   "source": [
    "g. Variable usada \"bathrooms\" \"host_is_superhost\" \"instant_bookable\""
   ]
  },
  {
   "cell_type": "code",
   "execution_count": null,
   "metadata": {},
   "outputs": [],
   "source": [
    "f7 = df[((df[\"bathrooms\"] == 1) | (df[\"host_is_superhost\"] == \"t\")) & (df[\"instant_bookable\"] == \"t\")]\n",
    "f7"
   ]
  },
  {
   "cell_type": "markdown",
   "metadata": {},
   "source": [
    "h. Variable usada \"review_scores_cleanliness\" \"review_scores_rating\""
   ]
  },
  {
   "cell_type": "code",
   "execution_count": null,
   "metadata": {},
   "outputs": [],
   "source": [
    "f8 = df[(df[\"review_scores_cleanliness\"] < 3) & (df[\"review_scores_rating\"] > 3)]\n",
    "f8"
   ]
  },
  {
   "cell_type": "code",
   "execution_count": 66,
   "metadata": {},
   "outputs": [],
   "source": [
    "f1.to_csv(\"Extraccion1.csv\")\n",
    "f2.to_csv(\"Extraccion2.csv\")\n",
    "f3.to_csv(\"Extraccion3.csv\")\n",
    "f4.to_csv(\"Extraccion4.csv\")\n",
    "f5.to_csv(\"Extraccion5.csv\")\n",
    "f6.to_csv(\"Extraccion6.csv\")\n",
    "f7.to_csv(\"Extraccion7.csv\")\n",
    "f8.to_csv(\"Extraccion8.csv\")"
   ]
  }
 ],
 "metadata": {
  "kernelspec": {
   "display_name": "Python 3",
   "language": "python",
   "name": "python3"
  },
  "language_info": {
   "codemirror_mode": {
    "name": "ipython",
    "version": 3
   },
   "file_extension": ".py",
   "mimetype": "text/x-python",
   "name": "python",
   "nbconvert_exporter": "python",
   "pygments_lexer": "ipython3",
   "version": "3.13.1"
  }
 },
 "nbformat": 4,
 "nbformat_minor": 2
}
